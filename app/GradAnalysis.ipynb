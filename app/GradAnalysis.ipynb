{
 "cells": [
  {
   "cell_type": "code",
   "execution_count": 155,
   "metadata": {},
   "outputs": [],
   "source": [
    "import pandas as pd\n",
    "import seaborn as sns\n",
    "import matplotlib.pyplot as plt\n",
    "import matplotlib.dates as mdates\n",
    "from typing import Union"
   ]
  },
  {
   "cell_type": "code",
   "execution_count": 99,
   "metadata": {},
   "outputs": [],
   "source": [
    "sns.set_theme(style=\"whitegrid\")"
   ]
  },
  {
   "cell_type": "code",
   "execution_count": 9,
   "metadata": {},
   "outputs": [],
   "source": [
    "df = pd.read_csv(\"cs.csv\", index_col=0)"
   ]
  },
  {
   "cell_type": "code",
   "execution_count": 21,
   "metadata": {},
   "outputs": [],
   "source": [
    "df['year'] = df['date_add'].str[-4:].astype(int)"
   ]
  },
  {
   "cell_type": "code",
   "execution_count": 144,
   "metadata": {},
   "outputs": [],
   "source": [
    "def vec_dt_replace(series, year=None, month=None, day=None):\n",
    "    return pd.to_datetime(\n",
    "        {'year': series.dt.year if year is None else year,\n",
    "         'month': series.dt.month if month is None else month,\n",
    "         'day': series.dt.day if day is None else day})"
   ]
  },
  {
   "cell_type": "code",
   "execution_count": 146,
   "metadata": {},
   "outputs": [],
   "source": [
    "df['uniform_dates'] = vec_dt_replace(pd.to_datetime(df['date_add']), year=2020)"
   ]
  },
  {
   "cell_type": "code",
   "execution_count": 133,
   "metadata": {},
   "outputs": [],
   "source": [
    "df['day_month'] = df['date_add'].str[:-5]"
   ]
  },
  {
   "cell_type": "code",
   "execution_count": 173,
   "metadata": {},
   "outputs": [],
   "source": [
    "df_1720 = df[(df['season'].isin(['F16', 'F17', 'F18', 'F19', 'F20'])) & (df['gpafin'] <= 4)]"
   ]
  },
  {
   "cell_type": "code",
   "execution_count": 174,
   "metadata": {},
   "outputs": [
    {
     "data": {
      "text/plain": [
       "Index(['institution', 'major', 'degree', 'season', 'decisionfin', 'method',\n",
       "       'decdate', 'decdate_ts', 'gpafin', 'grev', 'grem', 'grew', 'new_gre',\n",
       "       'sub', 'status', 'date_add', 'date_add_ts', 'comment', 'year',\n",
       "       'month_day', 'day_month', 'uniform_dates'],\n",
       "      dtype='object')"
      ]
     },
     "execution_count": 174,
     "metadata": {},
     "output_type": "execute_result"
    }
   ],
   "source": [
    "df.columns"
   ]
  },
  {
   "cell_type": "code",
   "execution_count": 334,
   "metadata": {},
   "outputs": [],
   "source": [
    "def create_filter(df,\n",
    "                  degree: str = None,\n",
    "                  decisionfin: Union[str, list] = None,\n",
    "                  institution: Union[str, list] = None,\n",
    "                  gpa: bool = True,\n",
    "                  gre: bool = True):\n",
    "    filt = [True] * len(df)\n",
    "    if degree is not None:\n",
    "        filt = (filt) & (df['degree'] == degree)\n",
    "    if decisionfin is not None:\n",
    "        if isinstance(decisionfin, str):\n",
    "            filt = (filt) & (df['decisionfin'].str.contains(decisionfin, case=False))\n",
    "        elif isinstance(decisionfin, list):\n",
    "            filt = (filt) & (df['decisionfin'].isin(decisionfin))\n",
    "    if institution is not None:\n",
    "        if isinstance(institution, str):\n",
    "            filt = (filt) & (df['institution'].str.contains(institution, case=False))\n",
    "        elif isinstance(institution, list):\n",
    "            filt = (filt) & (df['institution'].isin(institution))\n",
    "    if gpa:\n",
    "        filt = (filt) & (~df['gpafin'].isna())\n",
    "    if gre:\n",
    "        filt = (filt) & (~df['grev'].isna()) & (~df['grem'].isna()) & (~df['grew'].isna()) & (df['new_gre'])\n",
    "    \n",
    "    return filt"
   ]
  },
  {
   "cell_type": "code",
   "execution_count": 373,
   "metadata": {},
   "outputs": [],
   "source": [
    "def get_uni_stats(u_df, search: str, title: str = None, degree: str = 'MS'):\n",
    "    title = title if title is not None else search\n",
    "    if degree not in ['MS', 'PhD']:\n",
    "        degree = 'MS'\n",
    "\n",
    "    flatui = [\"#2eff71\", \"#ff0000\", \"#0000ff\"]\n",
    "    sns.set_palette(flatui)\n",
    "\n",
    "    fig, ax = plt.subplots(1,3)\n",
    "    fig.set_size_inches(20, 10)\n",
    "    \n",
    "    # Get GPA stats\n",
    "    mscs_filt = create_filter(u_df, degree, ['Accepted', 'Rejected'], institution = search, gpa = True)\n",
    "    sns.histplot(data=u_df[mscs_filt],\n",
    "                 x='gpafin',\n",
    "                 hue='decisionfin',\n",
    "                 hue_order=['Accepted', 'Rejected'],\n",
    "                 bins=10,\n",
    "                 ax=ax[0])\n",
    "    ax[0].set_xlabel(\"GPA\")\n",
    "    ax[0].set_ylabel(\"Count\")\n",
    "    ax[0].set_title(\"GPA Distribution\")\n",
    "    leg = ax[0].get_legend()\n",
    "    leg.set_title('Decision')\n",
    "\n",
    "    # Get GRE stats\n",
    "    mscs_filt = create_filter(u_df, degree, ['Accepted', 'Rejected'], institution = search, gre = True)\n",
    "    dfq = u_df[mscs_filt][['grem', 'decisionfin']]\n",
    "    dfq = dfq.assign(gre_type='Quant')\n",
    "    dfq.columns = ['score', 'decisionfin', 'gre_type']\n",
    "\n",
    "    dfv = u_df[mscs_filt][['grev', 'decisionfin']]\n",
    "    dfv = dfv.assign(gre_type='Verbal')\n",
    "    dfv.columns = ['score', 'decisionfin', 'gre_type']\n",
    "\n",
    "    cdf = pd.concat([dfq, dfv])\n",
    "    sns.boxplot(data=cdf,\n",
    "                x='gre_type',\n",
    "                y='score',\n",
    "                hue='decisionfin',\n",
    "                linewidth=2,\n",
    "                hue_order=['Accepted', 'Rejected'],\n",
    "                ax=ax[1])\n",
    "    leg = fig.axes[1].get_legend()\n",
    "    leg.set_title('Decision')\n",
    "    ax[1].set_xlabel(\"GRE Section\")\n",
    "    ax[1].set_ylabel(\"Score\")\n",
    "    ax[1].set_title(\"GRE Score distribution\")\n",
    "\n",
    "    # Timeline stats\n",
    "    mscs_filt = create_filter(u_df, degree, ['Accepted', 'Rejected', 'Interview'], institution = search)\n",
    "    sns.histplot(data=df_1720[mscs_filt],\n",
    "                 x='uniform_dates',\n",
    "                 hue='decisionfin',\n",
    "                 cumulative=True,\n",
    "                 discrete=False,\n",
    "                 element='step',\n",
    "                 fill=False,\n",
    "                 hue_order=['Accepted', 'Rejected', 'Interview'],\n",
    "                 ax=ax[2])\n",
    "\n",
    "    X = plt.gca().xaxis\n",
    "    X.set_major_formatter(mdates.DateFormatter('%b'))\n",
    "    leg = fig.axes[2].get_legend()\n",
    "    leg.set_title('Decision')\n",
    "    ax[2].set_xlabel(\"Date\")\n",
    "    ax[2].set_ylabel(\"Count\")\n",
    "    ax[2].set_title(\"Cumsum of decisions\")\n",
    "    \n",
    "    fig.suptitle(title + ' ' + degree, size='xx-large')\n",
    "    plt.savefig(title + '.png')\n",
    "    fig.show()"
   ]
  },
  {
   "cell_type": "code",
   "execution_count": 375,
   "metadata": {},
   "outputs": [
    {
     "name": "stderr",
     "output_type": "stream",
     "text": [
      "<ipython-input-373-ee76c0620fe7>:72: UserWarning: Matplotlib is currently using module://ipykernel.pylab.backend_inline, which is a non-GUI backend, so cannot show the figure.\n",
      "  fig.show()\n"
     ]
    },
    {
     "data": {
      "image/png": "[encoded data removed]",
      "text/plain": [
       "<Figure size 1440x720 with 3 Axes>"
      ]
     },
     "metadata": {},
     "output_type": "display_data"
    }
   ],
   "source": [
    "get_uni_stats(df_1720, 'berkeley', 'UC Berkeley', 'PhD')"
   ]
  },
  {
   "cell_type": "markdown",
   "metadata": {},
   "source": [
    "## Other things you could analyze\n",
    "\n",
    "For instance how many interviews per university, and thus know how likely it is that the interview process is a must if you wanna be accepted.\n",
    "\n",
    "### Bad interview analysis"
   ]
  },
  {
   "cell_type": "code",
   "execution_count": null,
   "metadata": {},
   "outputs": [],
   "source": [
    "df_1720['is_int'] = 0"
   ]
  },
  {
   "cell_type": "code",
   "execution_count": null,
   "metadata": {},
   "outputs": [],
   "source": [
    "df_1720.loc[df_1720['decisionfin'] == 'Interview', 'is_int'] = 1"
   ]
  },
  {
   "cell_type": "code",
   "execution_count": 372,
   "metadata": {},
   "outputs": [
    {
     "data": {
      "text/html": [
       "<div>\n",
       "<style scoped>\n",
       "    .dataframe tbody tr th:only-of-type {\n",
       "        vertical-align: middle;\n",
       "    }\n",
       "\n",
       "    .dataframe tbody tr th {\n",
       "        vertical-align: top;\n",
       "    }\n",
       "\n",
       "    .dataframe thead th {\n",
       "        text-align: right;\n",
       "    }\n",
       "</style>\n",
       "<table border=\"1\" class=\"dataframe\">\n",
       "  <thead>\n",
       "    <tr style=\"text-align: right;\">\n",
       "      <th></th>\n",
       "      <th>is_int</th>\n",
       "    </tr>\n",
       "    <tr>\n",
       "      <th>institution</th>\n",
       "      <th></th>\n",
       "    </tr>\n",
       "  </thead>\n",
       "  <tbody>\n",
       "    <tr>\n",
       "      <th>Columbia University</th>\n",
       "      <td>21</td>\n",
       "    </tr>\n",
       "    <tr>\n",
       "      <th>Stanford University</th>\n",
       "      <td>14</td>\n",
       "    </tr>\n",
       "    <tr>\n",
       "      <th>University Of California, Berkeley</th>\n",
       "      <td>11</td>\n",
       "    </tr>\n",
       "    <tr>\n",
       "      <th>Massachusetts Institute Of Technology (MIT)</th>\n",
       "      <td>8</td>\n",
       "    </tr>\n",
       "    <tr>\n",
       "      <th>University Of Toronto</th>\n",
       "      <td>8</td>\n",
       "    </tr>\n",
       "    <tr>\n",
       "      <th>University Of Southern California</th>\n",
       "      <td>8</td>\n",
       "    </tr>\n",
       "    <tr>\n",
       "      <th>University Of Notre Dame</th>\n",
       "      <td>8</td>\n",
       "    </tr>\n",
       "    <tr>\n",
       "      <th>\bUC Berkeley</th>\n",
       "      <td>7</td>\n",
       "    </tr>\n",
       "    <tr>\n",
       "      <th>Duke University</th>\n",
       "      <td>6</td>\n",
       "    </tr>\n",
       "    <tr>\n",
       "      <th>\bThe University Of Toronto</th>\n",
       "      <td>6</td>\n",
       "    </tr>\n",
       "    <tr>\n",
       "      <th>University Of Californa, Los Angeles (UCLA)</th>\n",
       "      <td>6</td>\n",
       "    </tr>\n",
       "    <tr>\n",
       "      <th>Cornell Tech</th>\n",
       "      <td>6</td>\n",
       "    </tr>\n",
       "    <tr>\n",
       "      <th>\bStanford University</th>\n",
       "      <td>5</td>\n",
       "    </tr>\n",
       "    <tr>\n",
       "      <th>Northwestern University</th>\n",
       "      <td>5</td>\n",
       "    </tr>\n",
       "    <tr>\n",
       "      <th>Carnegie Mellon University</th>\n",
       "      <td>5</td>\n",
       "    </tr>\n",
       "    <tr>\n",
       "      <th>University Of Florida</th>\n",
       "      <td>5</td>\n",
       "    </tr>\n",
       "    <tr>\n",
       "      <th>JHU (Johns Hopkins)</th>\n",
       "      <td>5</td>\n",
       "    </tr>\n",
       "    <tr>\n",
       "      <th>Drexel  University</th>\n",
       "      <td>4</td>\n",
       "    </tr>\n",
       "    <tr>\n",
       "      <th>Harvard University</th>\n",
       "      <td>4</td>\n",
       "    </tr>\n",
       "    <tr>\n",
       "      <th>Boston University</th>\n",
       "      <td>4</td>\n",
       "    </tr>\n",
       "    <tr>\n",
       "      <th>JHU (Johns Hopkins University)</th>\n",
       "      <td>4</td>\n",
       "    </tr>\n",
       "    <tr>\n",
       "      <th>Purdue University - West Lafayette</th>\n",
       "      <td>4</td>\n",
       "    </tr>\n",
       "    <tr>\n",
       "      <th>Cornell  University</th>\n",
       "      <td>4</td>\n",
       "    </tr>\n",
       "    <tr>\n",
       "      <th>\bThe University Of Colorado, Boulder</th>\n",
       "      <td>4</td>\n",
       "    </tr>\n",
       "    <tr>\n",
       "      <th>University Of Virginia</th>\n",
       "      <td>4</td>\n",
       "    </tr>\n",
       "    <tr>\n",
       "      <th>University Of California, Irvine</th>\n",
       "      <td>4</td>\n",
       "    </tr>\n",
       "    <tr>\n",
       "      <th>Johns Hopkins University</th>\n",
       "      <td>4</td>\n",
       "    </tr>\n",
       "    <tr>\n",
       "      <th>\bUniversity Of Michigan, Ann Arbor (Umich)</th>\n",
       "      <td>3</td>\n",
       "    </tr>\n",
       "    <tr>\n",
       "      <th>University Of Oxford</th>\n",
       "      <td>3</td>\n",
       "    </tr>\n",
       "    <tr>\n",
       "      <th>UC Berkeley</th>\n",
       "      <td>3</td>\n",
       "    </tr>\n",
       "  </tbody>\n",
       "</table>\n",
       "</div>"
      ],
      "text/plain": [
       "                                             is_int\n",
       "institution                                        \n",
       "Columbia University                              21\n",
       "Stanford University                              14\n",
       "University Of California, Berkeley               11\n",
       "Massachusetts Institute Of Technology (MIT)       8\n",
       "University Of Toronto                             8\n",
       "University Of Southern California                 8\n",
       "University Of Notre Dame                          8\n",
       "\bUC Berkeley                                      7\n",
       "Duke University                                   6\n",
       "\bThe University Of Toronto                        6\n",
       "University Of Californa, Los Angeles (UCLA)       6\n",
       "Cornell Tech                                      6\n",
       "\bStanford University                              5\n",
       "Northwestern University                           5\n",
       "Carnegie Mellon University                        5\n",
       "University Of Florida                             5\n",
       "JHU (Johns Hopkins)                               5\n",
       "Drexel  University                                4\n",
       "Harvard University                                4\n",
       "Boston University                                 4\n",
       "JHU (Johns Hopkins University)                    4\n",
       "Purdue University - West Lafayette                4\n",
       "Cornell  University                               4\n",
       "\bThe University Of Colorado, Boulder              4\n",
       "University Of Virginia                            4\n",
       "University Of California, Irvine                  4\n",
       "Johns Hopkins University                          4\n",
       "\bUniversity Of Michigan, Ann Arbor (Umich)        3\n",
       "University Of Oxford                              3\n",
       "UC Berkeley                                       3"
      ]
     },
     "execution_count": 372,
     "metadata": {},
     "output_type": "execute_result"
    }
   ],
   "source": [
    "df_1720.groupby(by='institution').agg({'is_int': sum}).sort_values(by='is_int', ascending=False).head(30)"
   ]
  },
  {
   "cell_type": "code",
   "execution_count": null,
   "metadata": {},
   "outputs": [],
   "source": []
  }
 ],
 "metadata": {
  "kernelspec": {
   "display_name": "Python 3",
   "language": "python",
   "name": "python3"
  },
  "language_info": {
   "codemirror_mode": {
    "name": "ipython",
    "version": 3
   },
   "file_extension": ".py",
   "mimetype": "text/x-python",
   "name": "python",
   "nbconvert_exporter": "python",
   "pygments_lexer": "ipython3",
   "version": "3.8.7"
  }
 },
 "nbformat": 4,
 "nbformat_minor": 4
}
